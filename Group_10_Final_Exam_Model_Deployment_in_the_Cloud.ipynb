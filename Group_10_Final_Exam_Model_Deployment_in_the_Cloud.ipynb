{
  "cells": [
    {
      "cell_type": "markdown",
      "metadata": {
        "id": "M5ygdnmJCo90"
      },
      "source": [
        "# **FINAL EXAM: MODEL DEPLOYMENT IN THE CLOUD**\n",
        "\n",
        "Group 10 Members: \n",
        "- Emmanuel Pascua\n",
        "- Maxine Audrey Pulao\n",
        "- Juan Piolo Torrecampo <br>\n",
        "\n",
        "Course and Section: CPE019 - CPE32S3 <br>\n",
        "Instructor: Engr. Roman M. Richard <br>\n",
        "Date Submitted: 4/26/2023 <hr>\n",
        "\n",
        "\n"
      ]
    },
    {
      "cell_type": "code",
      "execution_count": null,
      "metadata": {
        "colab": {
          "base_uri": "https://localhost:8080/"
        },
        "id": "B3Ly8bNcubsC",
        "outputId": "907467f0-444d-4a30-f066-602eb8ee4856"
      },
      "outputs": [
        {
          "output_type": "stream",
          "name": "stdout",
          "text": [
            "Drive already mounted at /content/drive; to attempt to forcibly remount, call drive.mount(\"/content/drive\", force_remount=True).\n"
          ]
        }
      ],
      "source": [
        "# connecting to google drive\n",
        "from google.colab import drive\n",
        "drive.mount(\"/content/drive\")"
      ]
    },
    {
      "cell_type": "code",
      "execution_count": null,
      "metadata": {
        "colab": {
          "base_uri": "https://localhost:8080/"
        },
        "id": "01X5u0iAim81",
        "outputId": "67e91429-4e0c-4c74-dd70-ff5815a3f7e9"
      },
      "outputs": [
        {
          "output_type": "stream",
          "name": "stdout",
          "text": [
            "/content/drive/MyDrive/CPES2 - 3rd Year/2nd Semester/CPE 019 - Emerging Technologies 2/finals/FINALS/Cattle Breeds\n",
            "['Ayrshire cattle', 'Brown Swiss cattle', 'Red Dane cattle', 'Holstein Friesian cattle', 'Jersey cattle']\n",
            "[]\n",
            "['Ayrshire cattle', 'Brown Swiss cattle', 'Red Dane cattle', 'Holstein Friesian cattle', 'Jersey cattle']\n"
          ]
        }
      ],
      "source": [
        "# importing dataset\n",
        "import os\n",
        "path_dir = \"/content/drive/MyDrive/CPES2 - 3rd Year/2nd Semester/CPE 019 - Emerging Technologies 2/finals/FINALS/Cattle Breeds\"\n",
        "list_dir = os.listdir(path_dir)\n",
        "path, dirs, files = next(os.walk(path_dir))\n",
        "\n",
        "print(path)\n",
        "print(dirs)\n",
        "print(files)\n",
        "print(list_dir)"
      ]
    },
    {
      "cell_type": "code",
      "execution_count": null,
      "metadata": {
        "colab": {
          "base_uri": "https://localhost:8080/"
        },
        "id": "V27jtXdwvo2D",
        "outputId": "09719cf9-f777-476d-9296-5f856c08536b"
      },
      "outputs": [
        {
          "output_type": "stream",
          "name": "stdout",
          "text": [
            "Directory already exists.\n"
          ]
        }
      ],
      "source": [
        "# making new base directory\n",
        "orig_dir = path_dir\n",
        "base_dir = \"/content/drive/MyDrive/CPES2 - 3rd Year/2nd Semester/CPE 019 - Emerging Technologies 2/finals/FINALS/cattle_breeds_new\"\n",
        "model_dir = \"/content/drive/MyDrive/CPES2 - 3rd Year/2nd Semester/CPE 019 - Emerging Technologies 2/finals/FINALS/models\"\n",
        "\n",
        "try:\n",
        "    os.mkdir(path_dir)\n",
        "    os.mkdir(model_dir)\n",
        "    print(\"Directory created successfully!\")\n",
        "except FileExistsError:\n",
        "    print(\"Directory already exists.\")\n",
        "except OSError as e:\n",
        "    print(f\"Directory creation failed: {e}\")"
      ]
    },
    {
      "cell_type": "code",
      "execution_count": null,
      "metadata": {
        "colab": {
          "base_uri": "https://localhost:8080/"
        },
        "id": "smpVzccNylmB",
        "outputId": "36b22f26-a717-4144-8022-1285e1f03997"
      },
      "outputs": [
        {
          "output_type": "stream",
          "name": "stdout",
          "text": [
            "Directory already exists.\n",
            "Directory already exists.\n"
          ]
        }
      ],
      "source": [
        "# creating directory for train and validation\n",
        "train_directory = os.path.join(base_dir, 'train')\n",
        "validation_directory = os.path.join(base_dir, 'validation')\n",
        "\n",
        "try:\n",
        "    os.mkdir(validation_directory)\n",
        "    os.mkdir(train_directory)\n",
        "    print(\"Directory created successfully!\")\n",
        "except FileExistsError:\n",
        "    print(\"Directory already exists.\")\n",
        "except OSError as e:\n",
        "    print(f\"Directory creation failed: {e}\")\n",
        "\n",
        "try:\n",
        "    # creating directories for training dataset\n",
        "    os.mkdir(os.path.join(train_directory, \"Ayrshire cattle\"))\n",
        "    os.mkdir(os.path.join(train_directory, \"Holstein Friesian cattle\"))\n",
        "    os.mkdir(os.path.join(train_directory, \"Jersey cattle\"))\n",
        "    os.mkdir(os.path.join(train_directory, \"Brown Swiss cattle\"))\n",
        "    os.mkdir(os.path.join(train_directory, \"Red Dane cattle\"))\n",
        "    # creating directories for validation dataset\n",
        "    os.mkdir(os.path.join(validation_directory, \"Ayrshire cattle\"))\n",
        "    os.mkdir(os.path.join(validation_directory, \"Holstein Friesian cattle\"))\n",
        "    os.mkdir(os.path.join(validation_directory, \"Jersey cattle\"))\n",
        "    os.mkdir(os.path.join(validation_directory, \"Brown Swiss cattle\"))\n",
        "    os.mkdir(os.path.join(validation_directory, \"Red Dane cattle\"))\n",
        "    print(\"Directory created successfully!\")\n",
        "except FileExistsError:\n",
        "    print(\"Directory already exists.\")\n",
        "except OSError as e:\n",
        "    print(f\"Directory creation failed: {e}\")"
      ]
    },
    {
      "cell_type": "code",
      "execution_count": null,
      "metadata": {
        "id": "ien9BVl91N_w"
      },
      "outputs": [],
      "source": [
        "import random\n",
        "from shutil import copyfile\n",
        "\n",
        "# creating a splitting function\n",
        "def split_data(source, training, validation, split_size):\n",
        "    files = []\n",
        "    for name in os.listdir(source):\n",
        "        file = source + name\n",
        "        if os.path.getsize(file) > 0:\n",
        "            files.append(name)\n",
        "        else:\n",
        "            print(name + \" is zero length, so ignoring.\")\n",
        "\n",
        "    training_length = int(len(files) * split_size)\n",
        "    valid_length = int(len(files) - training_length)\n",
        "    shuffled_set = random.sample(files, len(files))\n",
        "    training_set = shuffled_set[0:training_length]\n",
        "    valid_set = shuffled_set[training_length:]\n",
        "\n",
        "    for name in training_set:\n",
        "        this_file = source + name\n",
        "        destination = training + name\n",
        "        copyfile(this_file, destination)\n",
        "\n",
        "    for name in valid_set:\n",
        "        this_file = source + name\n",
        "        destination = validation + name\n",
        "        copyfile(this_file, destination)"
      ]
    },
    {
      "cell_type": "code",
      "execution_count": null,
      "metadata": {
        "id": "-277SYYQ1Sg5"
      },
      "outputs": [],
      "source": [
        "# declaring variable for the train and validation paths\n",
        "\n",
        "# ayrshire\n",
        "ayrshire_path_source = '/content/drive/MyDrive/CPES2 - 3rd Year/2nd Semester/CPE 019 - Emerging Technologies 2/finals/FINALS/Cattle Breeds/Ayrshire cattle/'\n",
        "ayrshire_path_training = '/content/drive/MyDrive/CPES2 - 3rd Year/2nd Semester/CPE 019 - Emerging Technologies 2/finals/FINALS/cattle_breeds_new/train/Ayrshire cattle/'\n",
        "ayrshire_path_validation = '/content/drive/MyDrive/CPES2 - 3rd Year/2nd Semester/CPE 019 - Emerging Technologies 2/finals/FINALS/cattle_breeds_new/validation/Ayrshire cattle/'\n",
        "\n",
        "# holstein_friesian\n",
        "holstein_friesian_path_source = '/content/drive/MyDrive/CPES2 - 3rd Year/2nd Semester/CPE 019 - Emerging Technologies 2/finals/FINALS/Cattle Breeds/Holstein Friesian cattle/'\n",
        "holstein_friesian_path_training = '/content/drive/MyDrive/CPES2 - 3rd Year/2nd Semester/CPE 019 - Emerging Technologies 2/finals/FINALS/cattle_breeds_new/train/Holstein Friesian cattle/'\n",
        "holstein_friesian_path_validation = '/content/drive/MyDrive/CPES2 - 3rd Year/2nd Semester/CPE 019 - Emerging Technologies 2/finals/FINALS/cattle_breeds_new/validation/Holstein Friesian cattle/'\n",
        "\n",
        "# jersey\n",
        "jersey_path_source = '/content/drive/MyDrive/CPES2 - 3rd Year/2nd Semester/CPE 019 - Emerging Technologies 2/finals/FINALS/Cattle Breeds/Jersey cattle/'\n",
        "jersey_path_training = '/content/drive/MyDrive/CPES2 - 3rd Year/2nd Semester/CPE 019 - Emerging Technologies 2/finals/FINALS/cattle_breeds_new/train/Jersey cattle/'\n",
        "jersey_path_validation = '/content/drive/MyDrive/CPES2 - 3rd Year/2nd Semester/CPE 019 - Emerging Technologies 2/finals/FINALS/cattle_breeds_new/validation/Jersey cattle/'\n",
        "\n",
        "# brown_swiss \n",
        "brown_swiss_path_source = '/content/drive/MyDrive/CPES2 - 3rd Year/2nd Semester/CPE 019 - Emerging Technologies 2/finals/FINALS/Cattle Breeds/Brown Swiss cattle/'\n",
        "brown_swiss_path_training = '/content/drive/MyDrive/CPES2 - 3rd Year/2nd Semester/CPE 019 - Emerging Technologies 2/finals/FINALS/cattle_breeds_new/train/Brown Swiss cattle/'\n",
        "brown_swiss_path_validation = '/content/drive/MyDrive/CPES2 - 3rd Year/2nd Semester/CPE 019 - Emerging Technologies 2/finals/FINALS/cattle_breeds_new/validation/Brown Swiss cattle/'\n",
        "\n",
        "# red_dane \n",
        "red_dane_path_source = '/content/drive/MyDrive/CPES2 - 3rd Year/2nd Semester/CPE 019 - Emerging Technologies 2/finals/FINALS/Cattle Breeds/Red Dane cattle/'\n",
        "red_dane_path_training = '/content/drive/MyDrive/CPES2 - 3rd Year/2nd Semester/CPE 019 - Emerging Technologies 2/finals/FINALS/cattle_breeds_new/train/Red Dane cattle/'\n",
        "red_dane_path_validation = '/content/drive/MyDrive/CPES2 - 3rd Year/2nd Semester/CPE 019 - Emerging Technologies 2/finals/FINALS/cattle_breeds_new/validation/Red Dane cattle/'"
      ]
    },
    {
      "cell_type": "code",
      "execution_count": null,
      "metadata": {
        "colab": {
          "base_uri": "https://localhost:8080/",
          "height": 381
        },
        "id": "7YmTp0Xz7W_D",
        "outputId": "52bc0441-2c07-4444-f697-7d002a1e599e"
      },
      "outputs": [
        {
          "output_type": "error",
          "ename": "OSError",
          "evalue": "ignored",
          "traceback": [
            "\u001b[0;31m---------------------------------------------------------------------------\u001b[0m",
            "\u001b[0;31mOSError\u001b[0m                                   Traceback (most recent call last)",
            "\u001b[0;32m<ipython-input-8-4807b4779e10>\u001b[0m in \u001b[0;36m<cell line: 4>\u001b[0;34m()\u001b[0m\n\u001b[1;32m      2\u001b[0m \u001b[0;34m\u001b[0m\u001b[0m\n\u001b[1;32m      3\u001b[0m \u001b[0msplit_data\u001b[0m\u001b[0;34m(\u001b[0m\u001b[0mayrshire_path_source\u001b[0m\u001b[0;34m,\u001b[0m \u001b[0mayrshire_path_training\u001b[0m\u001b[0;34m,\u001b[0m \u001b[0mayrshire_path_validation\u001b[0m\u001b[0;34m,\u001b[0m \u001b[0msplit_size\u001b[0m\u001b[0;34m)\u001b[0m\u001b[0;34m\u001b[0m\u001b[0;34m\u001b[0m\u001b[0m\n\u001b[0;32m----> 4\u001b[0;31m \u001b[0msplit_data\u001b[0m\u001b[0;34m(\u001b[0m\u001b[0mholstein_friesian_path_source\u001b[0m\u001b[0;34m,\u001b[0m \u001b[0mholstein_friesian_path_training\u001b[0m\u001b[0;34m,\u001b[0m \u001b[0mholstein_friesian_path_validation\u001b[0m\u001b[0;34m,\u001b[0m \u001b[0msplit_size\u001b[0m\u001b[0;34m)\u001b[0m\u001b[0;34m\u001b[0m\u001b[0;34m\u001b[0m\u001b[0m\n\u001b[0m\u001b[1;32m      5\u001b[0m \u001b[0msplit_data\u001b[0m\u001b[0;34m(\u001b[0m\u001b[0mjersey_path_source\u001b[0m\u001b[0;34m,\u001b[0m \u001b[0mjersey_path_training\u001b[0m\u001b[0;34m,\u001b[0m \u001b[0mjersey_path_validation\u001b[0m\u001b[0;34m,\u001b[0m \u001b[0msplit_size\u001b[0m\u001b[0;34m)\u001b[0m\u001b[0;34m\u001b[0m\u001b[0;34m\u001b[0m\u001b[0m\n\u001b[1;32m      6\u001b[0m \u001b[0msplit_data\u001b[0m\u001b[0;34m(\u001b[0m\u001b[0mbrown_swiss_path_source\u001b[0m\u001b[0;34m,\u001b[0m \u001b[0mbrown_swiss_path_training\u001b[0m\u001b[0;34m,\u001b[0m \u001b[0mbrown_swiss_path_validation\u001b[0m\u001b[0;34m,\u001b[0m \u001b[0msplit_size\u001b[0m\u001b[0;34m)\u001b[0m\u001b[0;34m\u001b[0m\u001b[0;34m\u001b[0m\u001b[0m\n",
            "\u001b[0;32m<ipython-input-6-4b4e07f3e05f>\u001b[0m in \u001b[0;36msplit_data\u001b[0;34m(source, training, validation, split_size)\u001b[0m\n\u001b[1;32m     21\u001b[0m         \u001b[0mthis_file\u001b[0m \u001b[0;34m=\u001b[0m \u001b[0msource\u001b[0m \u001b[0;34m+\u001b[0m \u001b[0mname\u001b[0m\u001b[0;34m\u001b[0m\u001b[0;34m\u001b[0m\u001b[0m\n\u001b[1;32m     22\u001b[0m         \u001b[0mdestination\u001b[0m \u001b[0;34m=\u001b[0m \u001b[0mtraining\u001b[0m \u001b[0;34m+\u001b[0m \u001b[0mname\u001b[0m\u001b[0;34m\u001b[0m\u001b[0;34m\u001b[0m\u001b[0m\n\u001b[0;32m---> 23\u001b[0;31m         \u001b[0mcopyfile\u001b[0m\u001b[0;34m(\u001b[0m\u001b[0mthis_file\u001b[0m\u001b[0;34m,\u001b[0m \u001b[0mdestination\u001b[0m\u001b[0;34m)\u001b[0m\u001b[0;34m\u001b[0m\u001b[0;34m\u001b[0m\u001b[0m\n\u001b[0m\u001b[1;32m     24\u001b[0m \u001b[0;34m\u001b[0m\u001b[0m\n\u001b[1;32m     25\u001b[0m     \u001b[0;32mfor\u001b[0m \u001b[0mname\u001b[0m \u001b[0;32min\u001b[0m \u001b[0mvalid_set\u001b[0m\u001b[0;34m:\u001b[0m\u001b[0;34m\u001b[0m\u001b[0;34m\u001b[0m\u001b[0m\n",
            "\u001b[0;32m/usr/lib/python3.10/shutil.py\u001b[0m in \u001b[0;36mcopyfile\u001b[0;34m(src, dst, follow_symlinks)\u001b[0m\n\u001b[1;32m    254\u001b[0m         \u001b[0;32mwith\u001b[0m \u001b[0mopen\u001b[0m\u001b[0;34m(\u001b[0m\u001b[0msrc\u001b[0m\u001b[0;34m,\u001b[0m \u001b[0;34m'rb'\u001b[0m\u001b[0;34m)\u001b[0m \u001b[0;32mas\u001b[0m \u001b[0mfsrc\u001b[0m\u001b[0;34m:\u001b[0m\u001b[0;34m\u001b[0m\u001b[0;34m\u001b[0m\u001b[0m\n\u001b[1;32m    255\u001b[0m             \u001b[0;32mtry\u001b[0m\u001b[0;34m:\u001b[0m\u001b[0;34m\u001b[0m\u001b[0;34m\u001b[0m\u001b[0m\n\u001b[0;32m--> 256\u001b[0;31m                 \u001b[0;32mwith\u001b[0m \u001b[0mopen\u001b[0m\u001b[0;34m(\u001b[0m\u001b[0mdst\u001b[0m\u001b[0;34m,\u001b[0m \u001b[0;34m'wb'\u001b[0m\u001b[0;34m)\u001b[0m \u001b[0;32mas\u001b[0m \u001b[0mfdst\u001b[0m\u001b[0;34m:\u001b[0m\u001b[0;34m\u001b[0m\u001b[0;34m\u001b[0m\u001b[0m\n\u001b[0m\u001b[1;32m    257\u001b[0m                     \u001b[0;31m# macOS\u001b[0m\u001b[0;34m\u001b[0m\u001b[0;34m\u001b[0m\u001b[0m\n\u001b[1;32m    258\u001b[0m                     \u001b[0;32mif\u001b[0m \u001b[0m_HAS_FCOPYFILE\u001b[0m\u001b[0;34m:\u001b[0m\u001b[0;34m\u001b[0m\u001b[0;34m\u001b[0m\u001b[0m\n",
            "\u001b[0;31mOSError\u001b[0m: [Errno 5] Input/output error: '/content/drive/MyDrive/CPES2 - 3rd Year/2nd Semester/CPE 019 - Emerging Technologies 2/finals/FINALS/cattle_breeds_new/train/Holstein Friesian cattle/HolsteinFriesiancattle128_c.jpg'"
          ]
        }
      ],
      "source": [
        "split_size = .80\n",
        "\n",
        "split_data(ayrshire_path_source, ayrshire_path_training, ayrshire_path_validation, split_size)\n",
        "split_data(holstein_friesian_path_source, holstein_friesian_path_training, holstein_friesian_path_validation, split_size)\n",
        "split_data(jersey_path_source, jersey_path_training, jersey_path_validation, split_size)\n",
        "split_data(brown_swiss_path_source, brown_swiss_path_training, brown_swiss_path_validation, split_size)\n",
        "split_data(red_dane_path_source, red_dane_path_training, red_dane_path_validation, split_size)"
      ]
    },
    {
      "cell_type": "code",
      "execution_count": null,
      "metadata": {
        "id": "duFEt4u-9Hki"
      },
      "outputs": [],
      "source": [
        "import matplotlib.pyplot as plt\n",
        "\n",
        "directory_labels = ['Ayrshire cattle', 'Holstein Friesian cattle', 'Jersey cattle', 'Brown Swiss cattle', 'Red Dane cattle']\n",
        "nimgs = {}\n",
        "\n",
        "for i in directory_labels:\n",
        "    nimages = len(os.listdir(train_directory + '/' + i + '/'))\n",
        "    nimgs[i]=nimages\n",
        "    \n",
        "plt.figure(figsize=(9, 6))\n",
        "plt.bar(range(len(nimgs)), list(nimgs.values()), align='center')\n",
        "plt.xticks(range(len(nimgs)), list(nimgs.keys()))\n",
        "plt.title('Distribution of different classes in Training Dataset')\n",
        "plt.show()"
      ]
    },
    {
      "cell_type": "code",
      "execution_count": null,
      "metadata": {
        "id": "werS5Xlt9j3i"
      },
      "outputs": [],
      "source": [
        "# declaring the default size of pictures\n",
        "img_width = 64\n",
        "img_height = 64\n",
        "\n",
        "# declaring batchsize\n",
        "batch_size = 16"
      ]
    },
    {
      "cell_type": "code",
      "execution_count": null,
      "metadata": {
        "id": "VGnyBHHn9m66"
      },
      "outputs": [],
      "source": [
        "from tensorflow.keras.preprocessing.image import ImageDataGenerator\n",
        "train_datagen = ImageDataGenerator(rescale = 1/255.0,\n",
        "                                   rotation_range=30,\n",
        "                                   zoom_range=0.4,\n",
        "                                   horizontal_flip=True     \n",
        "                        )\n",
        "\n",
        "train_generator = train_datagen.flow_from_directory(train_directory,\n",
        "                                                    batch_size=batch_size,\n",
        "                                                    class_mode='categorical',\n",
        "                                                    target_size=(img_height, img_width))"
      ]
    },
    {
      "cell_type": "code",
      "execution_count": null,
      "metadata": {
        "id": "mNuscSu39pTL"
      },
      "outputs": [],
      "source": [
        "validation_datagen = ImageDataGenerator(rescale = 1/255.0)\n",
        "\n",
        "validation_generator = validation_datagen.flow_from_directory(validation_directory,\n",
        "                                                              batch_size=batch_size,\n",
        "                                                              class_mode='categorical',\n",
        "                                                              target_size=(img_height, img_width)\n",
        "                                                             )"
      ]
    },
    {
      "cell_type": "code",
      "execution_count": null,
      "metadata": {
        "id": "SDcFXiLlChhG"
      },
      "outputs": [],
      "source": [
        "import tensorflow as tf\n",
        "from tensorflow.keras.models import Sequential\n",
        "from tensorflow.keras.layers import Conv2D, MaxPooling2D, Flatten, Dense\n",
        "\n",
        "\n",
        "def baseline_model():\n",
        "  # Define the model architecture\n",
        "  model = Sequential()\n",
        "\n",
        "  model.add(Conv2D(32, (3, 3), activation='relu', input_shape=(img_height, img_width, 3)))\n",
        "  model.add(MaxPooling2D(pool_size=(2, 2)))\n",
        "\n",
        "  model.add(Conv2D(64, (3, 3), activation='relu'))\n",
        "  model.add(MaxPooling2D(pool_size=(2, 2)))\n",
        "\n",
        "  model.add(Conv2D(128, (3, 3), activation='relu'))\n",
        "  model.add(MaxPooling2D(pool_size=(2, 2)))\n",
        "\n",
        "  model.add(Flatten())\n",
        "\n",
        "  model.add(Dense(256, activation='relu'))\n",
        "  model.add(Dense(128, activation='relu'))\n",
        "  model.add(Dense(5, activation='softmax'))  # num_classes is the number of cattle breeds\n",
        "  return model\n",
        "\n",
        "model = baseline_model()\n",
        "\n",
        "model.compile(optimizer='adam',\n",
        "              loss='categorical_crossentropy',\n",
        "              metrics=['accuracy'])\n",
        "\n",
        "history = model.fit_generator(train_generator,\n",
        "                              epochs=30,\n",
        "                              verbose=1,\n",
        "                              validation_data=validation_generator)"
      ]
    },
    {
      "cell_type": "code",
      "execution_count": null,
      "metadata": {
        "id": "pz9AkYpR_DaL"
      },
      "outputs": [],
      "source": [
        "baseline_model_test_loss, baseline_model_test_acc = model.evaluate(validation_generator)\n",
        "print(\"\\nTest loss: {:.4f}\".format(baseline_model_test_loss))\n",
        "print(\"Test accuracy: {:.4f}%\".format((baseline_model_test_acc)*100))"
      ]
    },
    {
      "cell_type": "code",
      "execution_count": null,
      "metadata": {
        "id": "E0LoYuiqJUrR"
      },
      "outputs": [],
      "source": [
        "accuracy = history.history['accuracy']\n",
        "validation_accuracy = history.history['val_accuracy']\n",
        "\n",
        "epochs=range(len(accuracy))\n",
        "\n",
        "figure_one = plt.figure(figsize=(14,7))\n",
        "\n",
        "plt.plot(epochs, accuracy, 'r', label = \"Training Accuracy\")\n",
        "plt.plot(epochs, validation_accuracy, 'b', label = \"Validation Accuracy\")\n",
        "plt.xlabel('Epoch')\n",
        "plt.ylabel('Accuracy')\n",
        "plt.title('Training and validation accuracy')\n",
        "plt.legend(loc='lower right')\n",
        "plt.show()"
      ]
    },
    {
      "cell_type": "code",
      "execution_count": null,
      "metadata": {
        "id": "iEH5XukvYggA"
      },
      "outputs": [],
      "source": [
        "model_path = '/content/drive/MyDrive/CPES2 - 3rd Year/2nd Semester/CPE 019 - Emerging Technologies 2/finals/FINALS/models/model_best.h5'\n",
        "model.save(model_path)"
      ]
    },
    {
      "cell_type": "code",
      "execution_count": null,
      "metadata": {
        "id": "aC9IHj92Y89E"
      },
      "outputs": [],
      "source": [
        "import tensorflow as tf\n",
        "model_path = '/content/drive/MyDrive/CPES2 - 3rd Year/2nd Semester/CPE 019 - Emerging Technologies 2/finals/FINALS/models/model_best.h5'\n",
        "loaded_model = tf.keras.models.load_model(model_path)"
      ]
    },
    {
      "cell_type": "code",
      "execution_count": null,
      "metadata": {
        "id": "vwc5ffN8aGbl"
      },
      "outputs": [],
      "source": [
        "import numpy as np\n",
        "from keras.utils.image_utils import array_to_img, img_to_array, load_img"
      ]
    },
    {
      "cell_type": "code",
      "execution_count": null,
      "metadata": {
        "id": "nVmX0w9iZr60"
      },
      "outputs": [],
      "source": [
        "img_size = (64,64)\n",
        "indices = train_generator.class_indices\n",
        "print(indices)"
      ]
    },
    {
      "cell_type": "code",
      "execution_count": null,
      "metadata": {
        "id": "U9dSljPrZuDW"
      },
      "outputs": [],
      "source": [
        "import matplotlib.pyplot as plt\n",
        "\n",
        "image = load_img(\"/content/drive/MyDrive/CPES2 - 3rd Year/2nd Semester/CPE 019 - Emerging Technologies 2/finals/FINALS/cattle_breeds_new/validation/Ayrshire cattle/Ayrshirecattle51_c.jpg\", target_size=img_size)\n",
        "x = img_to_array(image)\n",
        "x = np.expand_dims(x, axis=0)\n",
        "images = np.vstack([x])\n",
        "classes = loaded_model.predict(images)\n",
        "\n",
        "# Obtain the maximum predicted value and index\n",
        "max_value = max(classes[0])\n",
        "max_index = list(classes[0]).index(max_value)\n",
        "\n",
        "# Convert the prediction array to percentages\n",
        "probabilities = classes[0] * 100\n",
        "\n",
        "# Display the predicted class and its percentage\n",
        "class_names = list(indices.keys())\n",
        "predicted_class = class_names[max_index]\n",
        "predicted_percentage = probabilities[max_index]\n",
        "print('Real: Ayrshire cattle,', 'Predicted:', predicted_class, ', Percentage:', round(predicted_percentage, 2))\n",
        "\n",
        "# Display the probabilities of all classes\n",
        "for i in range(len(class_names)):\n",
        "    print(class_names[i], ':', round(probabilities[i], 2))\n",
        "    \n",
        "plt.imshow(image)"
      ]
    },
    {
      "cell_type": "code",
      "execution_count": null,
      "metadata": {
        "id": "dUtrgiQjaLW4"
      },
      "outputs": [],
      "source": [
        "image = load_img(\"/content/drive/MyDrive/CPES2 - 3rd Year/2nd Semester/CPE 019 - Emerging Technologies 2/finals/FINALS/cattle_breeds_new/validation/Brown Swiss cattle/BrownSwisscattle121_c.jpg\", target_size = img_size)\n",
        "x = img_to_array(image)\n",
        "x = np.expand_dims(x, axis=0)\n",
        "images = np.vstack([x])\n",
        "classes = model.predict(images)\n",
        "plt.imshow(image)\n",
        "max_value = max(classes[0])\n",
        "max_index = list(classes[0]).index(max_value)\n",
        "np.around(classes[0], decimals = 2)\n",
        "print('Real: Brown Swiss cattle', ', Predicted:',list(indices.keys())[max_index])"
      ]
    },
    {
      "cell_type": "code",
      "execution_count": null,
      "metadata": {
        "id": "HMLrV_xZaZKh"
      },
      "outputs": [],
      "source": [
        "image = load_img(\"/content/drive/MyDrive/CPES2 - 3rd Year/2nd Semester/CPE 019 - Emerging Technologies 2/finals/FINALS/cattle_breeds_new/validation/Holstein Friesian cattle/HolsteinFriesiancattle72.jpg\", target_size = img_size)\n",
        "x = img_to_array(image)\n",
        "x = np.expand_dims(x, axis=0)\n",
        "images = np.vstack([x])\n",
        "classes = model.predict(images)\n",
        "plt.imshow(image)\n",
        "max_value = max(classes[0])\n",
        "max_index = list(classes[0]).index(max_value)\n",
        "np.around(classes[0], decimals = 2)\n",
        "print('Real: Holstein Friesian cattle', ', Predicted:',list(indices.keys())[max_index])"
      ]
    },
    {
      "cell_type": "code",
      "execution_count": null,
      "metadata": {
        "id": "Sfy7UK2Ga3Ot"
      },
      "outputs": [],
      "source": [
        "image = load_img(\"/content/drive/MyDrive/CPES2 - 3rd Year/2nd Semester/CPE 019 - Emerging Technologies 2/finals/FINALS/cattle_breeds_new/validation/Jersey cattle/Jerseycattle130_c.jpg\", target_size = img_size)\n",
        "x = img_to_array(image)\n",
        "x = np.expand_dims(x, axis=0)\n",
        "images = np.vstack([x])\n",
        "classes = model.predict(images)\n",
        "plt.imshow(image)\n",
        "max_value = max(classes[0])\n",
        "max_index = list(classes[0]).index(max_value)\n",
        "np.around(classes[0], decimals = 2)\n",
        "print('Real: Jersey cattle', ', Predicted:',list(indices.keys())[max_index])"
      ]
    },
    {
      "cell_type": "code",
      "execution_count": null,
      "metadata": {
        "id": "0F0lZgLxboep"
      },
      "outputs": [],
      "source": [
        "image = load_img(\"/content/drive/MyDrive/CPES2 - 3rd Year/2nd Semester/CPE 019 - Emerging Technologies 2/finals/FINALS/cattle_breeds_new/validation/Red Dane cattle/RedDanecattle0_c.jpg\", target_size = img_size)\n",
        "x = img_to_array(image)\n",
        "x = np.expand_dims(x, axis=0)\n",
        "images = np.vstack([x])\n",
        "classes = model.predict(images)\n",
        "plt.imshow(image)\n",
        "max_value = max(classes[0])\n",
        "max_index = list(classes[0]).index(max_value)\n",
        "np.around(classes[0], decimals = 2)\n",
        "print('Real: Red Dane cattle', ', Predicted:',list(indices.keys())[max_index])"
      ]
    }
  ],
  "metadata": {
    "colab": {
      "provenance": []
    },
    "kernelspec": {
      "display_name": "Python 3",
      "name": "python3"
    },
    "language_info": {
      "name": "python"
    }
  },
  "nbformat": 4,
  "nbformat_minor": 0
}